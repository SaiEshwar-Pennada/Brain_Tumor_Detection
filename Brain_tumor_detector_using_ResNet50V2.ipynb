{
  "cells": [
    {
      "cell_type": "markdown",
      "metadata": {
        "id": "view-in-github",
        "colab_type": "text"
      },
      "source": [
        "<a href=\"https://colab.research.google.com/github/SaiEshwar-Pennada/Brain_Tumor_Detection/blob/main/Brain_tumor_detector_using_ResNet50V2.ipynb\" target=\"_parent\"><img src=\"https://colab.research.google.com/assets/colab-badge.svg\" alt=\"Open In Colab\"/></a>"
      ]
    },
    {
      "cell_type": "code",
      "execution_count": null,
      "metadata": {
        "id": "Z0X1mlA5ZeHn"
      },
      "outputs": [],
      "source": [
        "from google.colab import drive\n",
        "drive.mount('/content/drive')"
      ]
    },
    {
      "cell_type": "code",
      "execution_count": null,
      "metadata": {
        "id": "lXGnhc0yZrDc"
      },
      "outputs": [],
      "source": [
        "import os\n",
        "Root = \"/content/drive/My Drive/archive/brain_tumor_dataset\"\n",
        "os.chdir(Root)"
      ]
    },
    {
      "cell_type": "code",
      "execution_count": null,
      "metadata": {
        "colab": {
          "background_save": true
        },
        "id": "wVFGEK7cZ6ef"
      },
      "outputs": [],
      "source": [
        "import tensorflow as tf\n",
        "import os\n",
        "import numpy as np\n",
        "import pandas as pd\n",
        "import matplotlib.pyplot as plt\n",
        "%matplotlib inline\n",
        "from tensorflow.keras.preprocessing import image\n",
        "from keras.preprocessing.image import ImageDataGenerator\n",
        "from tensorflow.keras.metrics import categorical_crossentropy\n",
        "from keras.models import Sequential, Model\n",
        "from keras.layers import Conv2D, MaxPooling2D,GlobalAveragePooling2D\n",
        "from keras.layers import Activation, Dropout, BatchNormalization, Flatten, Dense, AvgPool2D,MaxPool2D\n",
        "from keras.models import Sequential, Model\n",
        "from keras.optimizers import Adam\n",
        "import cv2"
      ]
    },
    {
      "cell_type": "code",
      "execution_count": null,
      "metadata": {
        "id": "s7sjSha8Z-dq"
      },
      "outputs": [],
      "source": [
        "data = '/content/drive/My Drive/archive/brain_tumor_dataset/'\n",
        "No_brain_tumor = '/content/drive/My Drive/archive/brain_tumor_dataset/no/'\n",
        "Yes_brain_tumor = '/content/drive/My Drive/archive/brain_tumor_dataset/yes/'"
      ]
    },
    {
      "cell_type": "code",
      "execution_count": null,
      "metadata": {
        "colab": {
          "base_uri": "https://localhost:8080/"
        },
        "id": "hyghAbDhaUyK",
        "outputId": "e5a61d81-a71a-4526-8fb6-ffd3d3fcb8ff"
      },
      "outputs": [
        {
          "name": "stdout",
          "output_type": "stream",
          "text": [
            "filepaths:  253    labels:  253\n"
          ]
        }
      ],
      "source": [
        "dirlist=[No_brain_tumor, Yes_brain_tumor]\n",
        "classes=['No', 'Yes']\n",
        "filepaths=[]\n",
        "labels=[]\n",
        "for i,j in zip(dirlist, classes):\n",
        "    filelist=os.listdir(i)\n",
        "    for f in filelist:\n",
        "        filepath=os.path.join (i,f)\n",
        "        filepaths.append(filepath)\n",
        "        labels.append(j)\n",
        "print ('filepaths: ', len(filepaths), '   labels: ', len(labels))"
      ]
    },
    {
      "cell_type": "code",
      "execution_count": null,
      "metadata": {
        "colab": {
          "base_uri": "https://localhost:8080/",
          "height": 206
        },
        "id": "VsCTdWRAaYYa",
        "outputId": "44c543be-6dac-4c78-c3c4-395c82e2b8fd"
      },
      "outputs": [
        {
          "data": {
            "text/html": [
              "\n",
              "  <div id=\"df-2ff7e287-ed4d-4b80-b03c-243882521cf3\" class=\"colab-df-container\">\n",
              "    <div>\n",
              "<style scoped>\n",
              "    .dataframe tbody tr th:only-of-type {\n",
              "        vertical-align: middle;\n",
              "    }\n",
              "\n",
              "    .dataframe tbody tr th {\n",
              "        vertical-align: top;\n",
              "    }\n",
              "\n",
              "    .dataframe thead th {\n",
              "        text-align: right;\n",
              "    }\n",
              "</style>\n",
              "<table border=\"1\" class=\"dataframe\">\n",
              "  <thead>\n",
              "    <tr style=\"text-align: right;\">\n",
              "      <th></th>\n",
              "      <th>filepaths</th>\n",
              "      <th>labels</th>\n",
              "    </tr>\n",
              "  </thead>\n",
              "  <tbody>\n",
              "    <tr>\n",
              "      <th>0</th>\n",
              "      <td>/content/drive/My Drive/archive/brain_tumor_da...</td>\n",
              "      <td>No</td>\n",
              "    </tr>\n",
              "    <tr>\n",
              "      <th>1</th>\n",
              "      <td>/content/drive/My Drive/archive/brain_tumor_da...</td>\n",
              "      <td>No</td>\n",
              "    </tr>\n",
              "    <tr>\n",
              "      <th>2</th>\n",
              "      <td>/content/drive/My Drive/archive/brain_tumor_da...</td>\n",
              "      <td>No</td>\n",
              "    </tr>\n",
              "    <tr>\n",
              "      <th>3</th>\n",
              "      <td>/content/drive/My Drive/archive/brain_tumor_da...</td>\n",
              "      <td>No</td>\n",
              "    </tr>\n",
              "    <tr>\n",
              "      <th>4</th>\n",
              "      <td>/content/drive/My Drive/archive/brain_tumor_da...</td>\n",
              "      <td>No</td>\n",
              "    </tr>\n",
              "  </tbody>\n",
              "</table>\n",
              "</div>\n",
              "    <div class=\"colab-df-buttons\">\n",
              "\n",
              "  <div class=\"colab-df-container\">\n",
              "    <button class=\"colab-df-convert\" onclick=\"convertToInteractive('df-2ff7e287-ed4d-4b80-b03c-243882521cf3')\"\n",
              "            title=\"Convert this dataframe to an interactive table.\"\n",
              "            style=\"display:none;\">\n",
              "\n",
              "  <svg xmlns=\"http://www.w3.org/2000/svg\" height=\"24px\" viewBox=\"0 -960 960 960\">\n",
              "    <path d=\"M120-120v-720h720v720H120Zm60-500h600v-160H180v160Zm220 220h160v-160H400v160Zm0 220h160v-160H400v160ZM180-400h160v-160H180v160Zm440 0h160v-160H620v160ZM180-180h160v-160H180v160Zm440 0h160v-160H620v160Z\"/>\n",
              "  </svg>\n",
              "    </button>\n",
              "\n",
              "  <style>\n",
              "    .colab-df-container {\n",
              "      display:flex;\n",
              "      gap: 12px;\n",
              "    }\n",
              "\n",
              "    .colab-df-convert {\n",
              "      background-color: #E8F0FE;\n",
              "      border: none;\n",
              "      border-radius: 50%;\n",
              "      cursor: pointer;\n",
              "      display: none;\n",
              "      fill: #1967D2;\n",
              "      height: 32px;\n",
              "      padding: 0 0 0 0;\n",
              "      width: 32px;\n",
              "    }\n",
              "\n",
              "    .colab-df-convert:hover {\n",
              "      background-color: #E2EBFA;\n",
              "      box-shadow: 0px 1px 2px rgba(60, 64, 67, 0.3), 0px 1px 3px 1px rgba(60, 64, 67, 0.15);\n",
              "      fill: #174EA6;\n",
              "    }\n",
              "\n",
              "    .colab-df-buttons div {\n",
              "      margin-bottom: 4px;\n",
              "    }\n",
              "\n",
              "    [theme=dark] .colab-df-convert {\n",
              "      background-color: #3B4455;\n",
              "      fill: #D2E3FC;\n",
              "    }\n",
              "\n",
              "    [theme=dark] .colab-df-convert:hover {\n",
              "      background-color: #434B5C;\n",
              "      box-shadow: 0px 1px 3px 1px rgba(0, 0, 0, 0.15);\n",
              "      filter: drop-shadow(0px 1px 2px rgba(0, 0, 0, 0.3));\n",
              "      fill: #FFFFFF;\n",
              "    }\n",
              "  </style>\n",
              "\n",
              "    <script>\n",
              "      const buttonEl =\n",
              "        document.querySelector('#df-2ff7e287-ed4d-4b80-b03c-243882521cf3 button.colab-df-convert');\n",
              "      buttonEl.style.display =\n",
              "        google.colab.kernel.accessAllowed ? 'block' : 'none';\n",
              "\n",
              "      async function convertToInteractive(key) {\n",
              "        const element = document.querySelector('#df-2ff7e287-ed4d-4b80-b03c-243882521cf3');\n",
              "        const dataTable =\n",
              "          await google.colab.kernel.invokeFunction('convertToInteractive',\n",
              "                                                    [key], {});\n",
              "        if (!dataTable) return;\n",
              "\n",
              "        const docLinkHtml = 'Like what you see? Visit the ' +\n",
              "          '<a target=\"_blank\" href=https://colab.research.google.com/notebooks/data_table.ipynb>data table notebook</a>'\n",
              "          + ' to learn more about interactive tables.';\n",
              "        element.innerHTML = '';\n",
              "        dataTable['output_type'] = 'display_data';\n",
              "        await google.colab.output.renderOutput(dataTable, element);\n",
              "        const docLink = document.createElement('div');\n",
              "        docLink.innerHTML = docLinkHtml;\n",
              "        element.appendChild(docLink);\n",
              "      }\n",
              "    </script>\n",
              "  </div>\n",
              "\n",
              "\n",
              "<div id=\"df-73ff06fa-5df1-4f55-a8d3-5d0194d0685a\">\n",
              "  <button class=\"colab-df-quickchart\" onclick=\"quickchart('df-73ff06fa-5df1-4f55-a8d3-5d0194d0685a')\"\n",
              "            title=\"Suggest charts.\"\n",
              "            style=\"display:none;\">\n",
              "\n",
              "<svg xmlns=\"http://www.w3.org/2000/svg\" height=\"24px\"viewBox=\"0 0 24 24\"\n",
              "     width=\"24px\">\n",
              "    <g>\n",
              "        <path d=\"M19 3H5c-1.1 0-2 .9-2 2v14c0 1.1.9 2 2 2h14c1.1 0 2-.9 2-2V5c0-1.1-.9-2-2-2zM9 17H7v-7h2v7zm4 0h-2V7h2v10zm4 0h-2v-4h2v4z\"/>\n",
              "    </g>\n",
              "</svg>\n",
              "  </button>\n",
              "\n",
              "<style>\n",
              "  .colab-df-quickchart {\n",
              "      --bg-color: #E8F0FE;\n",
              "      --fill-color: #1967D2;\n",
              "      --hover-bg-color: #E2EBFA;\n",
              "      --hover-fill-color: #174EA6;\n",
              "      --disabled-fill-color: #AAA;\n",
              "      --disabled-bg-color: #DDD;\n",
              "  }\n",
              "\n",
              "  [theme=dark] .colab-df-quickchart {\n",
              "      --bg-color: #3B4455;\n",
              "      --fill-color: #D2E3FC;\n",
              "      --hover-bg-color: #434B5C;\n",
              "      --hover-fill-color: #FFFFFF;\n",
              "      --disabled-bg-color: #3B4455;\n",
              "      --disabled-fill-color: #666;\n",
              "  }\n",
              "\n",
              "  .colab-df-quickchart {\n",
              "    background-color: var(--bg-color);\n",
              "    border: none;\n",
              "    border-radius: 50%;\n",
              "    cursor: pointer;\n",
              "    display: none;\n",
              "    fill: var(--fill-color);\n",
              "    height: 32px;\n",
              "    padding: 0;\n",
              "    width: 32px;\n",
              "  }\n",
              "\n",
              "  .colab-df-quickchart:hover {\n",
              "    background-color: var(--hover-bg-color);\n",
              "    box-shadow: 0 1px 2px rgba(60, 64, 67, 0.3), 0 1px 3px 1px rgba(60, 64, 67, 0.15);\n",
              "    fill: var(--button-hover-fill-color);\n",
              "  }\n",
              "\n",
              "  .colab-df-quickchart-complete:disabled,\n",
              "  .colab-df-quickchart-complete:disabled:hover {\n",
              "    background-color: var(--disabled-bg-color);\n",
              "    fill: var(--disabled-fill-color);\n",
              "    box-shadow: none;\n",
              "  }\n",
              "\n",
              "  .colab-df-spinner {\n",
              "    border: 2px solid var(--fill-color);\n",
              "    border-color: transparent;\n",
              "    border-bottom-color: var(--fill-color);\n",
              "    animation:\n",
              "      spin 1s steps(1) infinite;\n",
              "  }\n",
              "\n",
              "  @keyframes spin {\n",
              "    0% {\n",
              "      border-color: transparent;\n",
              "      border-bottom-color: var(--fill-color);\n",
              "      border-left-color: var(--fill-color);\n",
              "    }\n",
              "    20% {\n",
              "      border-color: transparent;\n",
              "      border-left-color: var(--fill-color);\n",
              "      border-top-color: var(--fill-color);\n",
              "    }\n",
              "    30% {\n",
              "      border-color: transparent;\n",
              "      border-left-color: var(--fill-color);\n",
              "      border-top-color: var(--fill-color);\n",
              "      border-right-color: var(--fill-color);\n",
              "    }\n",
              "    40% {\n",
              "      border-color: transparent;\n",
              "      border-right-color: var(--fill-color);\n",
              "      border-top-color: var(--fill-color);\n",
              "    }\n",
              "    60% {\n",
              "      border-color: transparent;\n",
              "      border-right-color: var(--fill-color);\n",
              "    }\n",
              "    80% {\n",
              "      border-color: transparent;\n",
              "      border-right-color: var(--fill-color);\n",
              "      border-bottom-color: var(--fill-color);\n",
              "    }\n",
              "    90% {\n",
              "      border-color: transparent;\n",
              "      border-bottom-color: var(--fill-color);\n",
              "    }\n",
              "  }\n",
              "</style>\n",
              "\n",
              "  <script>\n",
              "    async function quickchart(key) {\n",
              "      const quickchartButtonEl =\n",
              "        document.querySelector('#' + key + ' button');\n",
              "      quickchartButtonEl.disabled = true;  // To prevent multiple clicks.\n",
              "      quickchartButtonEl.classList.add('colab-df-spinner');\n",
              "      try {\n",
              "        const charts = await google.colab.kernel.invokeFunction(\n",
              "            'suggestCharts', [key], {});\n",
              "      } catch (error) {\n",
              "        console.error('Error during call to suggestCharts:', error);\n",
              "      }\n",
              "      quickchartButtonEl.classList.remove('colab-df-spinner');\n",
              "      quickchartButtonEl.classList.add('colab-df-quickchart-complete');\n",
              "    }\n",
              "    (() => {\n",
              "      let quickchartButtonEl =\n",
              "        document.querySelector('#df-73ff06fa-5df1-4f55-a8d3-5d0194d0685a button');\n",
              "      quickchartButtonEl.style.display =\n",
              "        google.colab.kernel.accessAllowed ? 'block' : 'none';\n",
              "    })();\n",
              "  </script>\n",
              "</div>\n",
              "    </div>\n",
              "  </div>\n"
            ],
            "text/plain": [
              "                                           filepaths labels\n",
              "0  /content/drive/My Drive/archive/brain_tumor_da...     No\n",
              "1  /content/drive/My Drive/archive/brain_tumor_da...     No\n",
              "2  /content/drive/My Drive/archive/brain_tumor_da...     No\n",
              "3  /content/drive/My Drive/archive/brain_tumor_da...     No\n",
              "4  /content/drive/My Drive/archive/brain_tumor_da...     No"
            ]
          },
          "execution_count": 37,
          "metadata": {},
          "output_type": "execute_result"
        }
      ],
      "source": [
        "Files=pd.Series(filepaths, name='filepaths')\n",
        "Label=pd.Series(labels, name='labels')\n",
        "df=pd.concat([Files,Label], axis=1)\n",
        "df=pd.DataFrame(np.array(df).reshape(253,2), columns = ['filepaths', 'labels'])\n",
        "df.head()"
      ]
    },
    {
      "cell_type": "code",
      "execution_count": null,
      "metadata": {
        "colab": {
          "base_uri": "https://localhost:8080/"
        },
        "id": "uVWfn82daboB",
        "outputId": "d1e851d4-1e27-412e-a54b-43f556a386af"
      },
      "outputs": [
        {
          "name": "stdout",
          "output_type": "stream",
          "text": [
            "Yes    155\n",
            "No      98\n",
            "Name: labels, dtype: int64\n"
          ]
        }
      ],
      "source": [
        "print(df['labels'].value_counts())"
      ]
    },
    {
      "cell_type": "code",
      "execution_count": null,
      "metadata": {
        "colab": {
          "base_uri": "https://localhost:8080/",
          "height": 494
        },
        "id": "Bt5uacCJarIw",
        "outputId": "ce096e4a-56c2-4e1f-e879-d6b04cc80bfd"
      },
      "outputs": [
        {
          "ename": "KeyboardInterrupt",
          "evalue": "ignored",
          "output_type": "error",
          "traceback": [
            "\u001b[0;31m---------------------------------------------------------------------------\u001b[0m",
            "\u001b[0;31mKeyboardInterrupt\u001b[0m                         Traceback (most recent call last)",
            "\u001b[0;32m<ipython-input-39-9a1a8f25046b>\u001b[0m in \u001b[0;36m<cell line: 2>\u001b[0;34m()\u001b[0m\n\u001b[1;32m      3\u001b[0m     \u001b[0mrandom\u001b[0m \u001b[0;34m=\u001b[0m \u001b[0mnp\u001b[0m\u001b[0;34m.\u001b[0m\u001b[0mrandom\u001b[0m\u001b[0;34m.\u001b[0m\u001b[0mrandint\u001b[0m\u001b[0;34m(\u001b[0m\u001b[0;36m1\u001b[0m\u001b[0;34m,\u001b[0m\u001b[0mlen\u001b[0m\u001b[0;34m(\u001b[0m\u001b[0mdf\u001b[0m\u001b[0;34m)\u001b[0m\u001b[0;34m)\u001b[0m\u001b[0;34m\u001b[0m\u001b[0;34m\u001b[0m\u001b[0m\n\u001b[1;32m      4\u001b[0m     \u001b[0mplt\u001b[0m\u001b[0;34m.\u001b[0m\u001b[0msubplot\u001b[0m\u001b[0;34m(\u001b[0m\u001b[0;36m3\u001b[0m\u001b[0;34m,\u001b[0m\u001b[0;36m5\u001b[0m\u001b[0;34m,\u001b[0m\u001b[0mi\u001b[0m\u001b[0;34m+\u001b[0m\u001b[0;36m1\u001b[0m\u001b[0;34m)\u001b[0m\u001b[0;34m\u001b[0m\u001b[0;34m\u001b[0m\u001b[0m\n\u001b[0;32m----> 5\u001b[0;31m     \u001b[0mplt\u001b[0m\u001b[0;34m.\u001b[0m\u001b[0mimshow\u001b[0m\u001b[0;34m(\u001b[0m\u001b[0mcv2\u001b[0m\u001b[0;34m.\u001b[0m\u001b[0mimread\u001b[0m\u001b[0;34m(\u001b[0m\u001b[0mdf\u001b[0m\u001b[0;34m.\u001b[0m\u001b[0mloc\u001b[0m\u001b[0;34m[\u001b[0m\u001b[0mrandom\u001b[0m\u001b[0;34m,\u001b[0m\u001b[0;34m\"filepaths\"\u001b[0m\u001b[0;34m]\u001b[0m\u001b[0;34m)\u001b[0m\u001b[0;34m)\u001b[0m\u001b[0;34m\u001b[0m\u001b[0;34m\u001b[0m\u001b[0m\n\u001b[0m\u001b[1;32m      6\u001b[0m     \u001b[0mplt\u001b[0m\u001b[0;34m.\u001b[0m\u001b[0mtitle\u001b[0m\u001b[0;34m(\u001b[0m\u001b[0mdf\u001b[0m\u001b[0;34m.\u001b[0m\u001b[0mloc\u001b[0m\u001b[0;34m[\u001b[0m\u001b[0mrandom\u001b[0m\u001b[0;34m,\u001b[0m \u001b[0;34m\"labels\"\u001b[0m\u001b[0;34m]\u001b[0m\u001b[0;34m,\u001b[0m \u001b[0msize\u001b[0m \u001b[0;34m=\u001b[0m \u001b[0;36m15\u001b[0m\u001b[0;34m,\u001b[0m \u001b[0mcolor\u001b[0m \u001b[0;34m=\u001b[0m \u001b[0;34m\"white\"\u001b[0m\u001b[0;34m)\u001b[0m\u001b[0;34m\u001b[0m\u001b[0;34m\u001b[0m\u001b[0m\n\u001b[1;32m      7\u001b[0m     \u001b[0mplt\u001b[0m\u001b[0;34m.\u001b[0m\u001b[0mxticks\u001b[0m\u001b[0;34m(\u001b[0m\u001b[0;34m[\u001b[0m\u001b[0;34m]\u001b[0m\u001b[0;34m)\u001b[0m\u001b[0;34m\u001b[0m\u001b[0;34m\u001b[0m\u001b[0m\n",
            "\u001b[0;31mKeyboardInterrupt\u001b[0m: "
          ]
        },
        {
          "data": {
            "image/png": "[encoded data removed]",
            "text/plain": [
              "<Figure size 1200x800 with 5 Axes>"
            ]
          },
          "metadata": {},
          "output_type": "display_data"
        }
      ],
      "source": [
        "plt.figure(figsize=(12,8))\n",
        "for i in range(15):\n",
        "    random = np.random.randint(1,len(df))\n",
        "    plt.subplot(3,5,i+1)\n",
        "    plt.imshow(cv2.imread(df.loc[random,\"filepaths\"]))\n",
        "    plt.title(df.loc[random, \"labels\"], size = 15, color = \"white\")\n",
        "    plt.xticks([])\n",
        "    plt.yticks([])\n",
        "\n",
        "plt.show()"
      ]
    },
    {
      "cell_type": "code",
      "execution_count": null,
      "metadata": {
        "colab": {
          "background_save": true
        },
        "id": "p_jga2luat7A",
        "outputId": "1a9acfaf-eaaf-4e0a-fcce-e239b933d327"
      },
      "outputs": [
        {
          "name": "stdout",
          "output_type": "stream",
          "text": [
            "train set shape: (216, 2)\n",
            "test set shape: (13, 2)\n",
            "validation set shape: (24, 2)\n"
          ]
        }
      ],
      "source": [
        "from sklearn.model_selection import train_test_split\n",
        "\n",
        "train, test = train_test_split(df, train_size=0.95, random_state=0)\n",
        "train_new, valid = train_test_split(train, train_size=0.90, random_state=0)\n",
        "\n",
        "print(f\"train set shape: {train_new.shape}\")\n",
        "print(f\"test set shape: {test.shape}\")\n",
        "print(f\"validation set shape: {valid.shape}\")"
      ]
    },
    {
      "cell_type": "code",
      "execution_count": null,
      "metadata": {
        "colab": {
          "background_save": true
        },
        "id": "cyr3LSvFayEJ"
      },
      "outputs": [],
      "source": [
        "train_datagen = ImageDataGenerator(rescale = 1./255.,rotation_range = 40, width_shift_range = 0.2, height_shift_range = 0.2,\n",
        "                                   shear_range = 0.2, zoom_range = 0.2, horizontal_flip = True, vertical_flip =True)\n",
        "test_datagen = ImageDataGenerator(rescale = 1.0/255.)"
      ]
    },
    {
      "cell_type": "code",
      "execution_count": null,
      "metadata": {
        "colab": {
          "background_save": true
        },
        "id": "qb8U1WOPa2X9",
        "outputId": "2af48542-a20a-4e19-94ba-6022265c2b08"
      },
      "outputs": [
        {
          "name": "stdout",
          "output_type": "stream",
          "text": [
            "Found 216 validated image filenames belonging to 2 classes.\n",
            "Found 24 validated image filenames belonging to 2 classes.\n",
            "Found 13 validated image filenames belonging to 2 classes.\n"
          ]
        }
      ],
      "source": [
        "train_gen = train_datagen.flow_from_dataframe(dataframe = train_new,\n",
        "                                              x_col = 'filepaths', y_col ='labels',\n",
        "                                              target_size = (224,224), batch_size = 32,\n",
        "                                              class_mode = 'binary', shuffle = True)\n",
        "val_gen = train_datagen.flow_from_dataframe(valid,\n",
        "                                            target_size=(224,224), x_col = 'filepaths', y_col ='labels',\n",
        "                                            class_mode='binary',\n",
        "                                            batch_size= 16, shuffle=True)\n",
        "test_gen = test_datagen.flow_from_dataframe(test,\n",
        "                                            target_size = (224,224), x_col = 'filepaths', y_col ='labels',\n",
        "                                             class_mode = 'binary',\n",
        "                                            batch_size = 16, shuffle = False)"
      ]
    },
    {
      "cell_type": "code",
      "execution_count": null,
      "metadata": {
        "colab": {
          "background_save": true
        },
        "id": "d9F3MSBxa4Ny",
        "outputId": "8b73c618-a415-4e46-e818-513c65f63a3d"
      },
      "outputs": [
        {
          "data": {
            "text/plain": [
              "{'No': 0, 'Yes': 1}"
            ]
          },
          "execution_count": 54,
          "metadata": {},
          "output_type": "execute_result"
        }
      ],
      "source": [
        "train_gen.class_indices"
      ]
    },
    {
      "cell_type": "code",
      "execution_count": null,
      "metadata": {
        "colab": {
          "background_save": true
        },
        "id": "sIoMQS3wa6xI",
        "outputId": "d623a369-bea4-4be1-eb1e-b7408b8f5bfd"
      },
      "outputs": [
        {
          "ename": "NameError",
          "evalue": "ignored",
          "output_type": "error",
          "traceback": [
            "\u001b[0;31m---------------------------------------------------------------------------\u001b[0m",
            "\u001b[0;31mNameError\u001b[0m                                 Traceback (most recent call last)",
            "\u001b[0;32m<ipython-input-55-8e216786a244>\u001b[0m in \u001b[0;36m<cell line: 17>\u001b[0;34m()\u001b[0m\n\u001b[1;32m     15\u001b[0m \u001b[0;31m# when we unfreeze the base model for fine-tuning, so we make sure that the\u001b[0m\u001b[0;34m\u001b[0m\u001b[0;34m\u001b[0m\u001b[0m\n\u001b[1;32m     16\u001b[0m \u001b[0;31m# base_model is running in inference mode here.\u001b[0m\u001b[0;34m\u001b[0m\u001b[0;34m\u001b[0m\u001b[0m\n\u001b[0;32m---> 17\u001b[0;31m \u001b[0mx\u001b[0m \u001b[0;34m=\u001b[0m \u001b[0mbase_model\u001b[0m\u001b[0;34m(\u001b[0m\u001b[0minputs\u001b[0m\u001b[0;34m,\u001b[0m \u001b[0mtraining\u001b[0m\u001b[0;34m=\u001b[0m\u001b[0;32mFalse\u001b[0m\u001b[0;34m)\u001b[0m\u001b[0;34m\u001b[0m\u001b[0;34m\u001b[0m\u001b[0m\n\u001b[0m\u001b[1;32m     18\u001b[0m \u001b[0mx\u001b[0m \u001b[0;34m=\u001b[0m \u001b[0mkeras\u001b[0m\u001b[0;34m.\u001b[0m\u001b[0mlayers\u001b[0m\u001b[0;34m.\u001b[0m\u001b[0mGlobalAveragePooling2D\u001b[0m\u001b[0;34m(\u001b[0m\u001b[0;34m)\u001b[0m\u001b[0;34m(\u001b[0m\u001b[0mx\u001b[0m\u001b[0;34m)\u001b[0m\u001b[0;34m\u001b[0m\u001b[0;34m\u001b[0m\u001b[0m\n\u001b[1;32m     19\u001b[0m \u001b[0mx\u001b[0m \u001b[0;34m=\u001b[0m \u001b[0mkeras\u001b[0m\u001b[0;34m.\u001b[0m\u001b[0mlayers\u001b[0m\u001b[0;34m.\u001b[0m\u001b[0mDropout\u001b[0m\u001b[0;34m(\u001b[0m\u001b[0;36m0.2\u001b[0m\u001b[0;34m)\u001b[0m\u001b[0;34m(\u001b[0m\u001b[0mx\u001b[0m\u001b[0;34m)\u001b[0m  \u001b[0;31m# Regularize with dropout\u001b[0m\u001b[0;34m\u001b[0m\u001b[0;34m\u001b[0m\u001b[0m\n",
            "\u001b[0;31mNameError\u001b[0m: name 'inputs' is not defined"
          ]
        }
      ],
      "source": [
        "from keras.src.applications import ResNet50V2\n",
        "from tensorflow import keras\n",
        "base_model = keras.applications.ResNet50V2(\n",
        "    weights=\"imagenet\",  # Load weights pre-trained on ImageNet.\n",
        "    input_shape=(224, 224, 3),\n",
        "    include_top=False,\n",
        ")  # Do not include the ImageNet classifier at the top.\n",
        "\n",
        "# Freeze the base_model\n",
        "base_model.trainable = False\n",
        "# Create new model on top\n",
        "input_tensor = keras.Input(shape=(224, 224, 3))\n",
        "\n",
        "# The base model contains batchnorm layers. We want to keep them in inference mode\n",
        "# when we unfreeze the base model for fine-tuning, so we make sure that the\n",
        "# base_model is running in inference mode here.\n",
        "x = base_model(input_tensor, training=False)\n",
        "x = keras.layers.GlobalAveragePooling2D()(x)\n",
        "x = keras.layers.Dropout(0.2)(x)  # Regularize with dropout\n",
        "outputs = keras.layers.Dense(1, activation=\"sigmoid\")(x)\n",
        "model = keras.Model(input_tensoer, outputs)\n",
        "\n",
        "model.summary()"
      ]
    },
    {
      "cell_type": "code",
      "execution_count": null,
      "metadata": {
        "colab": {
          "background_save": true
        },
        "id": "8PbFmTkoPDVr",
        "outputId": "db5e6463-07fd-4409-e52d-5426e2834a5d"
      },
      "outputs": [
        {
          "name": "stdout",
          "output_type": "stream",
          "text": [
            "Epoch 1/100\n",
            "7/7 [==============================] - ETA: 0s - loss: 1.1162 - accuracy: 0.4213"
          ]
        },
        {
          "name": "stderr",
          "output_type": "stream",
          "text": [
            "/usr/local/lib/python3.10/dist-packages/keras/src/engine/training.py:3000: UserWarning: You are saving your model as an HDF5 file via `model.save()`. This file format is considered legacy. We recommend using instead the native Keras format, e.g. `model.save('my_model.keras')`.\n",
            "  saving_api.save_model(\n"
          ]
        },
        {
          "name": "stdout",
          "output_type": "stream",
          "text": [
            "7/7 [==============================] - 63s 8s/step - loss: 1.1162 - accuracy: 0.4213 - val_loss: 0.9014 - val_accuracy: 0.5000\n",
            "Epoch 2/100\n",
            "7/7 [==============================] - 47s 7s/step - loss: 1.0485 - accuracy: 0.3935 - val_loss: 0.8109 - val_accuracy: 0.5417\n",
            "Epoch 3/100\n",
            "7/7 [==============================] - 45s 7s/step - loss: 0.8804 - accuracy: 0.4722 - val_loss: 0.7005 - val_accuracy: 0.5000\n",
            "Epoch 4/100\n",
            "7/7 [==============================] - 45s 6s/step - loss: 0.7581 - accuracy: 0.5278 - val_loss: 0.7913 - val_accuracy: 0.4583\n",
            "Epoch 5/100\n",
            "7/7 [==============================] - 45s 6s/step - loss: 0.7732 - accuracy: 0.4861 - val_loss: 0.7606 - val_accuracy: 0.5417\n",
            "Epoch 6/100\n",
            "7/7 [==============================] - 49s 7s/step - loss: 0.6729 - accuracy: 0.6111 - val_loss: 0.7238 - val_accuracy: 0.6667\n",
            "Epoch 7/100\n",
            "7/7 [==============================] - 43s 6s/step - loss: 0.6873 - accuracy: 0.5926 - val_loss: 0.7573 - val_accuracy: 0.4583\n",
            "Epoch 8/100\n",
            "7/7 [==============================] - 46s 7s/step - loss: 0.6496 - accuracy: 0.6343 - val_loss: 0.6080 - val_accuracy: 0.6250\n",
            "Epoch 9/100\n",
            "7/7 [==============================] - 49s 7s/step - loss: 0.6738 - accuracy: 0.6296 - val_loss: 0.6961 - val_accuracy: 0.5000\n",
            "Epoch 10/100\n",
            "7/7 [==============================] - 49s 7s/step - loss: 0.6414 - accuracy: 0.6111 - val_loss: 0.6908 - val_accuracy: 0.7083\n",
            "Epoch 11/100\n",
            "7/7 [==============================] - 45s 6s/step - loss: 0.5816 - accuracy: 0.6991 - val_loss: 0.6834 - val_accuracy: 0.5833\n",
            "Epoch 12/100\n",
            "7/7 [==============================] - 45s 6s/step - loss: 0.6274 - accuracy: 0.6852 - val_loss: 0.6599 - val_accuracy: 0.6250\n",
            "Epoch 13/100\n",
            "7/7 [==============================] - 49s 7s/step - loss: 0.6286 - accuracy: 0.6481 - val_loss: 0.6674 - val_accuracy: 0.7083\n",
            "Epoch 14/100\n",
            "7/7 [==============================] - 45s 7s/step - loss: 0.5656 - accuracy: 0.7176 - val_loss: 0.6633 - val_accuracy: 0.6250\n",
            "Epoch 15/100\n",
            "7/7 [==============================] - 45s 6s/step - loss: 0.6313 - accuracy: 0.6481 - val_loss: 0.7022 - val_accuracy: 0.5417\n",
            "Epoch 16/100\n",
            "7/7 [==============================] - 45s 6s/step - loss: 0.6579 - accuracy: 0.6528 - val_loss: 0.6977 - val_accuracy: 0.5833\n",
            "Epoch 17/100\n",
            "7/7 [==============================] - 44s 6s/step - loss: 0.6109 - accuracy: 0.6759 - val_loss: 0.7076 - val_accuracy: 0.4583\n",
            "Epoch 18/100\n",
            "7/7 [==============================] - 45s 6s/step - loss: 0.5981 - accuracy: 0.6713 - val_loss: 0.6267 - val_accuracy: 0.5833\n",
            "Epoch 19/100\n",
            "7/7 [==============================] - 44s 6s/step - loss: 0.5934 - accuracy: 0.6852 - val_loss: 0.7173 - val_accuracy: 0.5000\n",
            "Epoch 20/100\n",
            "7/7 [==============================] - 46s 6s/step - loss: 0.5480 - accuracy: 0.7269 - val_loss: 0.5471 - val_accuracy: 0.6250\n",
            "Epoch 21/100\n",
            "7/7 [==============================] - 43s 6s/step - loss: 0.5436 - accuracy: 0.7454 - val_loss: 0.7489 - val_accuracy: 0.5417\n",
            "Epoch 22/100\n",
            "7/7 [==============================] - 45s 6s/step - loss: 0.5588 - accuracy: 0.7407 - val_loss: 0.6079 - val_accuracy: 0.6250\n",
            "Epoch 23/100\n",
            "7/7 [==============================] - 44s 6s/step - loss: 0.5816 - accuracy: 0.7083 - val_loss: 0.5873 - val_accuracy: 0.6250\n",
            "Epoch 24/100\n",
            "7/7 [==============================] - 45s 6s/step - loss: 0.5304 - accuracy: 0.7361 - val_loss: 0.6920 - val_accuracy: 0.6667\n",
            "Epoch 25/100\n",
            "7/7 [==============================] - 44s 6s/step - loss: 0.4991 - accuracy: 0.7407 - val_loss: 0.6816 - val_accuracy: 0.5000\n",
            "Epoch 26/100\n",
            "7/7 [==============================] - 45s 6s/step - loss: 0.5125 - accuracy: 0.7685 - val_loss: 0.6072 - val_accuracy: 0.7083\n",
            "Epoch 27/100\n",
            "7/7 [==============================] - 43s 6s/step - loss: 0.5231 - accuracy: 0.7176 - val_loss: 0.6441 - val_accuracy: 0.5833\n",
            "Epoch 28/100\n",
            "7/7 [==============================] - 45s 6s/step - loss: 0.5110 - accuracy: 0.7593 - val_loss: 0.6813 - val_accuracy: 0.5833\n",
            "Epoch 29/100\n",
            "7/7 [==============================] - 49s 7s/step - loss: 0.5207 - accuracy: 0.7037 - val_loss: 0.6076 - val_accuracy: 0.5833\n",
            "Epoch 30/100\n",
            "7/7 [==============================] - 45s 7s/step - loss: 0.5120 - accuracy: 0.7500 - val_loss: 0.6436 - val_accuracy: 0.5417\n",
            "Epoch 31/100\n",
            "7/7 [==============================] - 45s 6s/step - loss: 0.5351 - accuracy: 0.7731 - val_loss: 0.6096 - val_accuracy: 0.6667\n",
            "Epoch 32/100\n",
            "7/7 [==============================] - 49s 7s/step - loss: 0.4995 - accuracy: 0.7546 - val_loss: 0.7281 - val_accuracy: 0.5000\n",
            "Epoch 33/100\n",
            "7/7 [==============================] - 45s 6s/step - loss: 0.4866 - accuracy: 0.7269 - val_loss: 0.5853 - val_accuracy: 0.6250\n",
            "Epoch 34/100\n",
            "7/7 [==============================] - 47s 6s/step - loss: 0.5235 - accuracy: 0.7593 - val_loss: 0.5392 - val_accuracy: 0.6667\n",
            "Epoch 35/100\n",
            "7/7 [==============================] - 50s 7s/step - loss: 0.5229 - accuracy: 0.7222 - val_loss: 0.6381 - val_accuracy: 0.5417\n",
            "Epoch 36/100\n",
            "7/7 [==============================] - 44s 6s/step - loss: 0.5172 - accuracy: 0.7546 - val_loss: 0.5734 - val_accuracy: 0.5833\n",
            "Epoch 37/100\n",
            "7/7 [==============================] - 44s 6s/step - loss: 0.4679 - accuracy: 0.7963 - val_loss: 0.5710 - val_accuracy: 0.6667\n",
            "Epoch 38/100\n",
            "7/7 [==============================] - 49s 7s/step - loss: 0.5120 - accuracy: 0.7315 - val_loss: 0.6081 - val_accuracy: 0.6250\n",
            "Epoch 39/100\n",
            "7/7 [==============================] - 46s 7s/step - loss: 0.4637 - accuracy: 0.7824 - val_loss: 0.5895 - val_accuracy: 0.7917\n",
            "Epoch 40/100\n",
            "7/7 [==============================] - 44s 7s/step - loss: 0.4701 - accuracy: 0.7824 - val_loss: 0.7007 - val_accuracy: 0.5833\n",
            "Epoch 41/100\n",
            "7/7 [==============================] - 44s 6s/step - loss: 0.4777 - accuracy: 0.7963 - val_loss: 0.6055 - val_accuracy: 0.5833\n",
            "Epoch 42/100\n",
            "7/7 [==============================] - 50s 7s/step - loss: 0.4403 - accuracy: 0.8056 - val_loss: 0.5969 - val_accuracy: 0.6667\n",
            "Epoch 43/100\n",
            "7/7 [==============================] - 45s 6s/step - loss: 0.4885 - accuracy: 0.7731 - val_loss: 0.6230 - val_accuracy: 0.6667\n",
            "Epoch 44/100\n",
            "7/7 [==============================] - 46s 6s/step - loss: 0.4657 - accuracy: 0.7917 - val_loss: 0.7071 - val_accuracy: 0.5417\n",
            "Epoch 45/100\n",
            "7/7 [==============================] - 49s 7s/step - loss: 0.4188 - accuracy: 0.8380 - val_loss: 0.6603 - val_accuracy: 0.5833\n",
            "Epoch 46/100\n",
            "7/7 [==============================] - 45s 7s/step - loss: 0.4453 - accuracy: 0.7963 - val_loss: 0.5546 - val_accuracy: 0.5833\n",
            "Epoch 47/100\n",
            "7/7 [==============================] - 50s 7s/step - loss: 0.4340 - accuracy: 0.8194 - val_loss: 0.6261 - val_accuracy: 0.6250\n",
            "Epoch 48/100\n",
            "7/7 [==============================] - 45s 7s/step - loss: 0.4791 - accuracy: 0.7546 - val_loss: 0.6064 - val_accuracy: 0.5833\n",
            "Epoch 49/100\n",
            "7/7 [==============================] - 47s 6s/step - loss: 0.4759 - accuracy: 0.7824 - val_loss: 0.5344 - val_accuracy: 0.6667\n",
            "Epoch 50/100\n",
            "7/7 [==============================] - 49s 7s/step - loss: 0.4160 - accuracy: 0.8194 - val_loss: 0.5710 - val_accuracy: 0.7083\n",
            "Epoch 51/100\n",
            "7/7 [==============================] - 45s 6s/step - loss: 0.4475 - accuracy: 0.7963 - val_loss: 0.6510 - val_accuracy: 0.5833\n",
            "Epoch 52/100\n",
            "7/7 [==============================] - 44s 6s/step - loss: 0.4609 - accuracy: 0.7731 - val_loss: 0.5966 - val_accuracy: 0.6250\n",
            "Epoch 53/100\n",
            "7/7 [==============================] - 48s 7s/step - loss: 0.4278 - accuracy: 0.8148 - val_loss: 0.6415 - val_accuracy: 0.6250\n",
            "Epoch 54/100\n",
            "7/7 [==============================] - 44s 6s/step - loss: 0.4628 - accuracy: 0.7778 - val_loss: 0.6368 - val_accuracy: 0.5833\n",
            "Epoch 55/100\n",
            "7/7 [==============================] - 45s 6s/step - loss: 0.4004 - accuracy: 0.8333 - val_loss: 0.5394 - val_accuracy: 0.7083\n",
            "Epoch 56/100\n",
            "7/7 [==============================] - 50s 7s/step - loss: 0.4130 - accuracy: 0.8194 - val_loss: 0.5215 - val_accuracy: 0.6250\n",
            "Epoch 57/100\n",
            "7/7 [==============================] - 46s 6s/step - loss: 0.4064 - accuracy: 0.8056 - val_loss: 0.6490 - val_accuracy: 0.6250\n",
            "Epoch 58/100\n",
            "7/7 [==============================] - 51s 7s/step - loss: 0.4045 - accuracy: 0.8287 - val_loss: 0.4941 - val_accuracy: 0.7917\n",
            "Epoch 59/100\n",
            "7/7 [==============================] - 45s 6s/step - loss: 0.4561 - accuracy: 0.7917 - val_loss: 0.5507 - val_accuracy: 0.6250\n",
            "Epoch 60/100\n",
            "7/7 [==============================] - 45s 6s/step - loss: 0.4807 - accuracy: 0.8056 - val_loss: 0.6259 - val_accuracy: 0.5833\n",
            "Epoch 61/100\n",
            "7/7 [==============================] - 45s 6s/step - loss: 0.3960 - accuracy: 0.8565 - val_loss: 0.5697 - val_accuracy: 0.7083\n",
            "Epoch 62/100\n",
            "7/7 [==============================] - 44s 6s/step - loss: 0.3926 - accuracy: 0.8472 - val_loss: 0.5481 - val_accuracy: 0.7500\n",
            "Epoch 63/100\n",
            "7/7 [==============================] - 43s 6s/step - loss: 0.3915 - accuracy: 0.8565 - val_loss: 0.6223 - val_accuracy: 0.5833\n",
            "Epoch 64/100\n",
            "7/7 [==============================] - 44s 7s/step - loss: 0.4563 - accuracy: 0.7963 - val_loss: 0.5457 - val_accuracy: 0.7083\n",
            "Epoch 65/100\n",
            "7/7 [==============================] - 43s 6s/step - loss: 0.3824 - accuracy: 0.8565 - val_loss: 0.5337 - val_accuracy: 0.6667\n",
            "Epoch 66/100\n",
            "7/7 [==============================] - 46s 6s/step - loss: 0.4379 - accuracy: 0.8102 - val_loss: 0.4471 - val_accuracy: 0.7917\n",
            "Epoch 67/100\n",
            "7/7 [==============================] - 49s 7s/step - loss: 0.4048 - accuracy: 0.8241 - val_loss: 0.5011 - val_accuracy: 0.7500\n",
            "Epoch 68/100\n",
            "7/7 [==============================] - 45s 6s/step - loss: 0.4093 - accuracy: 0.8472 - val_loss: 0.5756 - val_accuracy: 0.7083\n",
            "Epoch 69/100\n",
            "7/7 [==============================] - 46s 6s/step - loss: 0.4147 - accuracy: 0.8194 - val_loss: 0.5944 - val_accuracy: 0.7500\n",
            "Epoch 70/100\n",
            "7/7 [==============================] - 48s 7s/step - loss: 0.3657 - accuracy: 0.8426 - val_loss: 0.5833 - val_accuracy: 0.6667\n",
            "Epoch 71/100\n",
            "7/7 [==============================] - 45s 6s/step - loss: 0.3993 - accuracy: 0.8333 - val_loss: 0.5250 - val_accuracy: 0.7083\n",
            "Epoch 72/100\n",
            "7/7 [==============================] - 45s 6s/step - loss: 0.4046 - accuracy: 0.8287 - val_loss: 0.5039 - val_accuracy: 0.7917\n",
            "Epoch 73/100\n",
            "7/7 [==============================] - 47s 7s/step - loss: 0.3960 - accuracy: 0.8287 - val_loss: 0.5942 - val_accuracy: 0.6250\n",
            "Epoch 74/100\n",
            "7/7 [==============================] - 44s 6s/step - loss: 0.3997 - accuracy: 0.7917 - val_loss: 0.4985 - val_accuracy: 0.6667\n",
            "Epoch 75/100\n",
            "7/7 [==============================] - 45s 6s/step - loss: 0.4090 - accuracy: 0.8287 - val_loss: 0.5060 - val_accuracy: 0.6667\n",
            "Epoch 76/100\n",
            "7/7 [==============================] - 44s 6s/step - loss: 0.3993 - accuracy: 0.8565 - val_loss: 0.5130 - val_accuracy: 0.6667\n",
            "Epoch 77/100\n",
            "7/7 [==============================] - 44s 7s/step - loss: 0.4131 - accuracy: 0.8519 - val_loss: 0.4832 - val_accuracy: 0.6667\n",
            "Epoch 78/100\n",
            "7/7 [==============================] - 45s 6s/step - loss: 0.3979 - accuracy: 0.8380 - val_loss: 0.4835 - val_accuracy: 0.7083\n",
            "Epoch 79/100\n",
            "7/7 [==============================] - 45s 6s/step - loss: 0.3669 - accuracy: 0.8657 - val_loss: 0.6229 - val_accuracy: 0.7500\n",
            "Epoch 80/100\n",
            "7/7 [==============================] - 48s 7s/step - loss: 0.3684 - accuracy: 0.8472 - val_loss: 0.5942 - val_accuracy: 0.6667\n",
            "Epoch 81/100\n",
            "7/7 [==============================] - 44s 6s/step - loss: 0.3789 - accuracy: 0.8287 - val_loss: 0.5219 - val_accuracy: 0.7083\n",
            "Epoch 82/100\n",
            "7/7 [==============================] - 45s 6s/step - loss: 0.3344 - accuracy: 0.8704 - val_loss: 0.5718 - val_accuracy: 0.7083\n",
            "Epoch 83/100\n",
            "7/7 [==============================] - 48s 7s/step - loss: 0.3727 - accuracy: 0.8565 - val_loss: 0.5445 - val_accuracy: 0.6667\n",
            "Epoch 84/100\n",
            "7/7 [==============================] - 44s 6s/step - loss: 0.3320 - accuracy: 0.8611 - val_loss: 0.4616 - val_accuracy: 0.7083\n",
            "Epoch 85/100\n",
            "7/7 [==============================] - 43s 6s/step - loss: 0.4227 - accuracy: 0.7917 - val_loss: 0.5632 - val_accuracy: 0.6667\n",
            "Epoch 86/100\n",
            "7/7 [==============================] - 49s 7s/step - loss: 0.3723 - accuracy: 0.8472 - val_loss: 0.5780 - val_accuracy: 0.7083\n",
            "Epoch 87/100\n",
            "7/7 [==============================] - 45s 6s/step - loss: 0.3886 - accuracy: 0.8287 - val_loss: 0.4887 - val_accuracy: 0.7500\n",
            "Epoch 88/100\n",
            "7/7 [==============================] - 45s 6s/step - loss: 0.3869 - accuracy: 0.8148 - val_loss: 0.5449 - val_accuracy: 0.7500\n",
            "Epoch 89/100\n",
            "7/7 [==============================] - 48s 7s/step - loss: 0.3753 - accuracy: 0.8287 - val_loss: 0.5395 - val_accuracy: 0.7083\n",
            "Epoch 90/100\n",
            "7/7 [==============================] - 45s 6s/step - loss: 0.3818 - accuracy: 0.8194 - val_loss: 0.5991 - val_accuracy: 0.5833\n",
            "Epoch 91/100\n",
            "7/7 [==============================] - 44s 6s/step - loss: 0.3544 - accuracy: 0.8565 - val_loss: 0.5556 - val_accuracy: 0.6667\n",
            "Epoch 92/100\n",
            "7/7 [==============================] - 43s 6s/step - loss: 0.3953 - accuracy: 0.8287 - val_loss: 0.5832 - val_accuracy: 0.6667\n",
            "Epoch 93/100\n",
            "7/7 [==============================] - 45s 6s/step - loss: 0.3819 - accuracy: 0.8194 - val_loss: 0.5110 - val_accuracy: 0.6667\n",
            "Epoch 94/100\n",
            "7/7 [==============================] - 45s 6s/step - loss: 0.3313 - accuracy: 0.8750 - val_loss: 0.5772 - val_accuracy: 0.6667\n",
            "Epoch 95/100\n",
            "7/7 [==============================] - 49s 7s/step - loss: 0.3443 - accuracy: 0.8704 - val_loss: 0.5076 - val_accuracy: 0.7500\n",
            "Epoch 96/100\n",
            "7/7 [==============================] - 44s 6s/step - loss: 0.3568 - accuracy: 0.8611 - val_loss: 0.4947 - val_accuracy: 0.7083\n",
            "Epoch 97/100\n",
            "7/7 [==============================] - 45s 6s/step - loss: 0.3863 - accuracy: 0.7917 - val_loss: 0.5812 - val_accuracy: 0.6667\n",
            "Epoch 98/100\n",
            "7/7 [==============================] - 49s 7s/step - loss: 0.3777 - accuracy: 0.8565 - val_loss: 0.5835 - val_accuracy: 0.5833\n",
            "Epoch 99/100\n",
            "7/7 [==============================] - 44s 6s/step - loss: 0.3893 - accuracy: 0.8426 - val_loss: 0.5177 - val_accuracy: 0.7083\n",
            "Epoch 100/100\n",
            "7/7 [==============================] - 43s 6s/step - loss: 0.3522 - accuracy: 0.8611 - val_loss: 0.5433 - val_accuracy: 0.7083\n"
          ]
        }
      ],
      "source": [
        "callbacks = [\n",
        "    tf.keras.callbacks.ModelCheckpoint(\"Tumor_classifier_model.h5\", save_best_only=True, verbose = 0)\n",
        "]\n",
        "\n",
        "\n",
        "\n",
        "\n",
        "\n",
        "model.compile(loss='binary_crossentropy', optimizer=Adam(learning_rate= 0.0001), metrics=['accuracy'])\n",
        "\n",
        "\n",
        "history = model.fit(train_gen, validation_data = val_gen, epochs = 100,\n",
        "                    callbacks = [callbacks], verbose = 1)"
      ]
    },
    {
      "cell_type": "code",
      "execution_count": null,
      "metadata": {
        "colab": {
          "background_save": true
        },
        "id": "b3k85db_dILx"
      },
      "outputs": [],
      "source": [
        "fin_json=model.to_json()\n",
        "with open ('tumor.json','w') as json_file:\n",
        "    json_file.write(fin_json)\n",
        "model.save_weights('Tumor.h5')"
      ]
    },
    {
      "cell_type": "code",
      "execution_count": null,
      "metadata": {
        "colab": {
          "background_save": true
        },
        "id": "_gogz8d-LdZm"
      },
      "outputs": [],
      "source": [
        "from tensorflow.keras.models import model_from_json\n",
        "model=model_from_json(open('tumor.json','r').read())\n",
        "model.load_weights('Tumor.h5')"
      ]
    },
    {
      "cell_type": "code",
      "execution_count": null,
      "metadata": {
        "colab": {
          "background_save": true
        },
        "id": "pevG7h8ZddE_"
      },
      "outputs": [],
      "source": [
        "pd.DataFrame(history.history).plot(figsize=(8, 5))\n",
        "plt.grid(True)\n",
        "plt.gca().set_ylim(0, 1)\n",
        "plt.show()"
      ]
    },
    {
      "cell_type": "code",
      "execution_count": null,
      "metadata": {
        "colab": {
          "background_save": true
        },
        "id": "fMLimKcTdfoY"
      },
      "outputs": [],
      "source": [
        "from PIL import Image\n",
        "model_path = \"/content/drive/MyDrive/archive/brain_tumor_dataset/Tumor_classifier_model.h5\"\n",
        "loaded_model = tf.keras.models.load_model(model_path)\n",
        "\n",
        "import matplotlib.pyplot as plt\n",
        "import numpy as np\n",
        "\n",
        "image = cv2.imread(\"/content/drive/My Drive/archive/brain_tumor_dataset/yes/Y113.JPG\")\n",
        "\n",
        "image_fromarray = Image.fromarray(image, 'RGB')\n",
        "resize_image = image_fromarray.resize((224, 224))\n",
        "expand_input = np.expand_dims(resize_image,axis=0)\n",
        "input_data = np.array(expand_input)\n",
        "input_data = input_data/255\n",
        "\n",
        "pred = loaded_model.predict(input_data)\n",
        "result = pred.argmax()\n",
        "result"
      ]
    },
    {
      "cell_type": "code",
      "execution_count": null,
      "metadata": {
        "colab": {
          "background_save": true
        },
        "id": "35yYo4VWdyDh"
      },
      "outputs": [],
      "source": [
        "train_gen.class_indices"
      ]
    }
  ],
  "metadata": {
    "colab": {
      "provenance": [],
      "include_colab_link": true
    },
    "kernelspec": {
      "display_name": "Python 3",
      "name": "python3"
    },
    "language_info": {
      "name": "python"
    }
  },
  "nbformat": 4,
  "nbformat_minor": 0
}